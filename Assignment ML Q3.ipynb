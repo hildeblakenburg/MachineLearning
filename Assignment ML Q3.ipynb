{
 "cells": [
  {
   "cell_type": "code",
   "execution_count": 241,
   "metadata": {},
   "outputs": [],
   "source": [
    "#Being able to read the parquet data files --> From https://www.nyc.gov/site/tlc/about/tlc-trip-record-data.page \n",
    "\n",
    "import pyarrow.parquet as pq\n",
    "trips = pq.read_table(\"2011_new.parquet\")\n",
    "trips = trips.to_pandas()"
   ]
  },
  {
   "cell_type": "code",
   "execution_count": 242,
   "metadata": {},
   "outputs": [],
   "source": [
    "#Importing libraries\n",
    "import numpy as np\n",
    "import pandas as pd\n",
    "import matplotlib.pyplot as plt\n",
    "import seaborn as sns\n",
    "import datetime as datetime\n",
    "from collections import Counter\n",
    "import time\n",
    "from sklearn.preprocessing import StandardScaler, LabelEncoder\n",
    "from sklearn.model_selection import train_test_split"
   ]
  },
  {
   "cell_type": "code",
   "execution_count": 243,
   "metadata": {},
   "outputs": [
    {
     "data": {
      "text/html": [
       "<div>\n",
       "<style scoped>\n",
       "    .dataframe tbody tr th:only-of-type {\n",
       "        vertical-align: middle;\n",
       "    }\n",
       "\n",
       "    .dataframe tbody tr th {\n",
       "        vertical-align: top;\n",
       "    }\n",
       "\n",
       "    .dataframe thead th {\n",
       "        text-align: right;\n",
       "    }\n",
       "</style>\n",
       "<table border=\"1\" class=\"dataframe\">\n",
       "  <thead>\n",
       "    <tr style=\"text-align: right;\">\n",
       "      <th></th>\n",
       "      <th>PULocationID</th>\n",
       "      <th>DOLocationID</th>\n",
       "      <th>pickup_date</th>\n",
       "      <th>pickup_time</th>\n",
       "      <th>dropoff_date</th>\n",
       "      <th>dropoff_time</th>\n",
       "    </tr>\n",
       "  </thead>\n",
       "  <tbody>\n",
       "    <tr>\n",
       "      <th>0</th>\n",
       "      <td>142</td>\n",
       "      <td>116</td>\n",
       "      <td>2011-07-01</td>\n",
       "      <td>00:00:00</td>\n",
       "      <td>2011-07-01</td>\n",
       "      <td>00:12:00</td>\n",
       "    </tr>\n",
       "    <tr>\n",
       "      <th>1</th>\n",
       "      <td>246</td>\n",
       "      <td>41</td>\n",
       "      <td>2011-07-01</td>\n",
       "      <td>00:00:00</td>\n",
       "      <td>2011-07-01</td>\n",
       "      <td>00:16:00</td>\n",
       "    </tr>\n",
       "    <tr>\n",
       "      <th>2</th>\n",
       "      <td>148</td>\n",
       "      <td>243</td>\n",
       "      <td>2011-07-01</td>\n",
       "      <td>00:00:00</td>\n",
       "      <td>2011-07-01</td>\n",
       "      <td>00:50:00</td>\n",
       "    </tr>\n",
       "    <tr>\n",
       "      <th>3</th>\n",
       "      <td>107</td>\n",
       "      <td>170</td>\n",
       "      <td>2011-07-01</td>\n",
       "      <td>00:00:00</td>\n",
       "      <td>2011-07-01</td>\n",
       "      <td>00:05:00</td>\n",
       "    </tr>\n",
       "    <tr>\n",
       "      <th>4</th>\n",
       "      <td>162</td>\n",
       "      <td>87</td>\n",
       "      <td>2011-07-01</td>\n",
       "      <td>00:00:00</td>\n",
       "      <td>2011-07-01</td>\n",
       "      <td>00:21:00</td>\n",
       "    </tr>\n",
       "  </tbody>\n",
       "</table>\n",
       "</div>"
      ],
      "text/plain": [
       "   PULocationID  DOLocationID pickup_date pickup_time dropoff_date  \\\n",
       "0           142           116  2011-07-01    00:00:00   2011-07-01   \n",
       "1           246            41  2011-07-01    00:00:00   2011-07-01   \n",
       "2           148           243  2011-07-01    00:00:00   2011-07-01   \n",
       "3           107           170  2011-07-01    00:00:00   2011-07-01   \n",
       "4           162            87  2011-07-01    00:00:00   2011-07-01   \n",
       "\n",
       "  dropoff_time  \n",
       "0     00:12:00  \n",
       "1     00:16:00  \n",
       "2     00:50:00  \n",
       "3     00:05:00  \n",
       "4     00:21:00  "
      ]
     },
     "execution_count": 243,
     "metadata": {},
     "output_type": "execute_result"
    }
   ],
   "source": [
    "# Training and test data split: \n",
    "# Splitting the dataset into training, validation, and test data set using 60:20:20 split for train: validation: test.\n",
    "\n",
    "from sklearn.model_selection import train_test_split\n",
    "from sklearn import preprocessing\n",
    "from sklearn.metrics import classification_report\n",
    "\n",
    "#Checking the available columns in the dataset\n",
    "trips.head()"
   ]
  },
  {
   "cell_type": "code",
   "execution_count": 244,
   "metadata": {},
   "outputs": [],
   "source": [
    "# X = trips[['PULocationID', 'DOLocationID', 'pickup_date', 'dropoff_date']].values"
   ]
  },
  {
   "cell_type": "code",
   "execution_count": 245,
   "metadata": {},
   "outputs": [
    {
     "data": {
      "text/plain": [
       "array([datetime.date(2011, 7, 1), datetime.date(2011, 7, 2),\n",
       "       datetime.date(2011, 7, 3), datetime.date(2011, 7, 4),\n",
       "       datetime.date(2011, 7, 5), datetime.date(2011, 7, 6),\n",
       "       datetime.date(2011, 7, 7)], dtype=object)"
      ]
     },
     "execution_count": 245,
     "metadata": {},
     "output_type": "execute_result"
    }
   ],
   "source": [
    "#Check which unique pickup dates are available in the dataset\n",
    "#This is correct because the dataset includes 2011-07-1 -> 2011-07-07\n",
    "unique_dates = trips['pickup_date']\n",
    "unique_dates.unique()"
   ]
  },
  {
   "cell_type": "code",
   "execution_count": 246,
   "metadata": {},
   "outputs": [],
   "source": [
    "# Makes a copy of the original dataframe named trips, so the original dataframe is not adjusted \n",
    "trips_copy = trips.copy()\n",
    "\n",
    "# Replace values in 'pickup_date' and 'dropoff_date' using a dictionary\n",
    "# Do this using a dictionary because .replace(.......,inplace=True) can not be executed several times for the same dataset --> gives a future warning.\n",
    "changing_date_to_single_number = {\n",
    "    '2011-07-01': '1',\n",
    "    '2011-07-02': '2',\n",
    "    '2011-07-03': '3',\n",
    "    '2011-07-04': '4',\n",
    "    '2011-07-05': '5',\n",
    "    '2011-07-06': '6',\n",
    "    '2011-07-07': '7'\n",
    "}\n",
    "\n",
    "# Replace values in 'pickup_date' using the same above dictionary\n",
    "trips_copy['pickup_date'] = trips_copy['pickup_date'].astype(str).replace(changing_date_to_single_number)\n",
    "\n",
    "# Replace values in 'dropoff_date' using the same above dictionary\n",
    "trips_copy['dropoff_date'] = trips_copy['dropoff_date'].astype(str).replace(changing_date_to_single_number)\n"
   ]
  },
  {
   "cell_type": "code",
   "execution_count": 247,
   "metadata": {},
   "outputs": [
    {
     "name": "stdout",
     "output_type": "stream",
     "text": [
      "Number of pick up counts on each day in original data set pickup_date\n",
      "2011-07-07    427809\n",
      "2011-07-06    402064\n",
      "2011-07-01    393675\n",
      "2011-07-05    350593\n",
      "2011-07-02    309025\n",
      "2011-07-03    267093\n",
      "2011-07-04    245278\n",
      "Name: count, dtype: int64: \n",
      "Number of pick up counts on each day in original data set pickup_date\n",
      "7    427809\n",
      "6    402064\n",
      "1    393675\n",
      "5    350593\n",
      "2    309025\n",
      "3    267093\n",
      "4    245278\n",
      "Name: count, dtype: int64: \n"
     ]
    }
   ],
   "source": [
    "#Checking if the adjustments were done correctly --> seems correct.\n",
    "\n",
    "# Display the first few rows\n",
    "# Seems correct as the observations keep the same PULocationID and DOLocationID and the only thing that changes is the pickup date/ dropoff date.\n",
    "# print(trips.head())\n",
    "# print(trips_copy.head())\n",
    "\n",
    "# Seems also correct as the number of observations on each day is the same.\n",
    "#Original data set\n",
    "pickup_counts_original = trips['pickup_date'].value_counts()\n",
    "print(f'Number of pick up counts on each day in original data set {pickup_counts_original}: ')\n",
    "\n",
    "#Modified data set\n",
    "pickup_counts_modified_copy = trips_copy['pickup_date'].value_counts()\n",
    "print(f'Number of pick up counts on each day in original data set {pickup_counts_modified_copy}: ')"
   ]
  },
  {
   "cell_type": "code",
   "execution_count": 253,
   "metadata": {},
   "outputs": [],
   "source": [
    "#Now connect the values in the new dataframe (using numbers instead of dates) to value X which is used in the NN model\n",
    "#pickup_time and dropoff_time is not used yet in this example, if we want to use is, include it in here.\n",
    "X = trips_copy[['PULocationID', 'DOLocationID', 'pickup_date', 'dropoff_date']].values"
   ]
  },
  {
   "cell_type": "code",
   "execution_count": 254,
   "metadata": {},
   "outputs": [],
   "source": [
    "#I do not think we have to convert things as we only have numeric values, as the LabelEncoder does not work with the Scaler, we converted everything\n",
    "# earlier in by changing the dates to numbers. So I do not think we should use this part of the original code. \n",
    "# however, I am in doubt because in this part of the code they introduce 'y'. Which is used in a later part of the code. \n",
    "\n",
    "# y = trips['pickup_date']\n",
    "# #label encoding is done as model accepts only numeric values\n",
    "# # so strings need to be converted into labels\n",
    "# LE = preprocessing.LabelEncoder()\n",
    "# LE.fit(y)\n",
    "# y = LE.transform(y)\n",
    "# y"
   ]
  },
  {
   "cell_type": "code",
   "execution_count": null,
   "metadata": {},
   "outputs": [],
   "source": [
    "#for now y is only pickup_date, do not know for sure if drop_off date is also necessarry.\n",
    "# I do this because in the original code above they also introduce a variable named y.\n",
    "# I use trips_copy because in this dataset, the pickup date is already changed from a real date to the single number of the date.\n",
    "\n",
    "y = trips_copy['pickup_date']"
   ]
  },
  {
   "cell_type": "code",
   "execution_count": null,
   "metadata": {},
   "outputs": [
    {
     "name": "stdout",
     "output_type": "stream",
     "text": [
      "Datapoints in Training set: 1437321\n",
      "Datapoints in validation set: 479108\n",
      "Datapoints in Test set: 479108\n"
     ]
    }
   ],
   "source": [
    "# Copied from the example. Did not change a thing, y is used in this one.\n",
    "\n",
    "# #Splitting dataset into train, validation and test data\n",
    "# #De originele dataset bestaat uit features X en labels y. \n",
    "X_train,X_test,y_train,y_test = train_test_split(X,y,test_size=0.2,random_state = 0) #80% training, 20% test\n",
    "X_train,X_val,y_train,y_val = train_test_split(X_train,y_train,test_size=0.25,random_state = 0)\n",
    "\n",
    "# Scale data\n",
    "scaler = StandardScaler().fit(X_train)\n",
    "X_train = scaler.transform(X_train)\n",
    "X_val = scaler.transform(X_val)\n",
    "X_test = scaler.transform(X_test)\n",
    "\n",
    "\n",
    "#Output the number of data points in training, validation, and test dataset.\n",
    "print(\"Datapoints in Training set:\",len(X_train))\n",
    "print(\"Datapoints in validation set:\",len(X_val))\n",
    "print(\"Datapoints in Test set:\",len(X_test))"
   ]
  },
  {
   "cell_type": "markdown",
   "metadata": {},
   "source": [
    "!!! I think it is fine untill here. I got some troubles with the one hot encoding. In the example code it is all done in one cell, but i created different parts. If y is defined correclty two cells above I think it is correct but not sure about that. !!!\n"
   ]
  },
  {
   "cell_type": "code",
   "execution_count": 256,
   "metadata": {},
   "outputs": [
    {
     "name": "stdout",
     "output_type": "stream",
     "text": [
      "         pickup_date_1  pickup_date_2  pickup_date_3  pickup_date_4  \\\n",
      "0                    1              0              0              0   \n",
      "1                    1              0              0              0   \n",
      "2                    1              0              0              0   \n",
      "3                    1              0              0              0   \n",
      "4                    1              0              0              0   \n",
      "...                ...            ...            ...            ...   \n",
      "2395532              0              0              0              0   \n",
      "2395533              0              0              0              0   \n",
      "2395534              0              0              0              0   \n",
      "2395535              0              0              0              0   \n",
      "2395536              0              0              0              0   \n",
      "\n",
      "         pickup_date_5  pickup_date_6  pickup_date_7  \n",
      "0                    0              0              0  \n",
      "1                    0              0              0  \n",
      "2                    0              0              0  \n",
      "3                    0              0              0  \n",
      "4                    0              0              0  \n",
      "...                ...            ...            ...  \n",
      "2395532              0              0              1  \n",
      "2395533              0              0              1  \n",
      "2395534              0              0              1  \n",
      "2395535              0              0              1  \n",
      "2395536              0              0              1  \n",
      "\n",
      "[2395537 rows x 7 columns]\n"
     ]
    }
   ],
   "source": [
    "# In the original code we are at this step, just above Part A. This step needs to be implemented!!!!!\n",
    "\n",
    "\n",
    "# Part from the original code:\n",
    "# # Convert the y variable into one-hot encoding - basically the true label will be 1 and all others will be assigned to 0\n",
    "# def one_hot(y, num_classes):\n",
    "#     return np.eye(num_classes)[y]\n",
    "\n",
    "# y_train_oh = one_hot(y_train, len(np.unique(y)))\n",
    "# y_val_oh = one_hot(y_val, len(np.unique(y)))\n",
    "# y_test_oh = one_hot(y_test, len(np.unique(y)))\n",
    "\n",
    "\n",
    "# Now I am not sure which value is our y, I also do not know exactly what to do here.\n",
    "# Below a piece of code that microsoft copilot wrote for me, fixing the one-hot encoding which should be done in this part of the exercise, \n",
    "# but not sure how to work with this.\n",
    "\n",
    "trips_copy_pickup_date_encoded = pd.get_dummies(trips_copy['pickup_date'], prefix='pickup_date', dtype=int)\n",
    "print(trips_copy_pickup_date_encoded)"
   ]
  }
 ],
 "metadata": {
  "kernelspec": {
   "display_name": "ME44312",
   "language": "python",
   "name": "python3"
  },
  "language_info": {
   "codemirror_mode": {
    "name": "ipython",
    "version": 3
   },
   "file_extension": ".py",
   "mimetype": "text/x-python",
   "name": "python",
   "nbconvert_exporter": "python",
   "pygments_lexer": "ipython3",
   "version": "3.12.9"
  }
 },
 "nbformat": 4,
 "nbformat_minor": 2
}
