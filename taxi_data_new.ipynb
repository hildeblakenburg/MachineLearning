{
 "cells": [
  {
   "cell_type": "code",
   "execution_count": 1,
   "id": "06c7c7cd-d912-4da2-8b8e-770b94443337",
   "metadata": {},
   "outputs": [],
   "source": [
    "import pyarrow.parquet as pq\n",
    "import pandas as pd\n",
    "import matplotlib.pyplot as plt\n",
    "import glob"
   ]
  },
  {
   "cell_type": "code",
   "execution_count": 4,
   "id": "3db1a323-58a3-4cad-86b1-c3810b8a9b29",
   "metadata": {},
   "outputs": [
    {
     "name": "stdout",
     "output_type": "stream",
     "text": [
      "[4, 12, 13, 24, 41, 42, 43, 45, 48, 50, 68, 74, 75, 79, 87, 88, 90, 100, 103, 104, 105, 107, 113, 114, 116, 120, 125, 127, 128, 137, 140, 141, 142, 143, 144, 148, 151, 152, 153, 158, 161, 162, 163, 164, 166, 170, 186, 194, 202, 209, 211, 224, 229, 230, 231, 232, 233, 234, 236, 237, 238, 239, 243, 244, 246, 249, 261, 262, 263]\n"
     ]
    }
   ],
   "source": [
    "# To determine the right zones that belong to Manhattan\n",
    "zones = pd.read_csv('taxi_zone_lookup.csv')\n",
    "zones['Borough'] == 'Manhattan'\n",
    "manhattan_zones = zones[zones['Borough'] == 'Manhattan']\n",
    "manhattan_zone_numbers = manhattan_zones['LocationID'].unique().tolist()\n",
    "print(manhattan_zone_numbers)"
   ]
  },
  {
   "cell_type": "code",
   "execution_count": 45,
   "id": "d4441307-b298-480b-a7f0-ad44823f8ad6",
   "metadata": {},
   "outputs": [],
   "source": [
    "taxi_2011 = pq.read_table('yellow_tripdata_2011-07.parquet')\n",
    "taxi_2011 = taxi_2011.to_pandas()\n",
    "\n",
    "# Select necessary columns\n",
    "taxi_2011 = taxi_2011[['tpep_pickup_datetime', 'tpep_dropoff_datetime', 'PULocationID', 'DOLocationID']]\n",
    "\n",
    "# Convert datetime column to proper format\n",
    "taxi_2011['tpep_pickup_datetime'] = pd.to_datetime(taxi_2011['tpep_pickup_datetime'])\n",
    "taxi_2011['tpep_dropoff_datetime'] = pd.to_datetime(taxi_2011['tpep_dropoff_datetime'])\n",
    "\n",
    "# Filter for Manhattan zones\n",
    "taxi_filtered_2011 = taxi_2011[\n",
    "    (taxi_2011['PULocationID'].isin(manhattan_zone_numbers)) & \n",
    "    (taxi_2011['DOLocationID'].isin(manhattan_zone_numbers))\n",
    "]\n",
    "\n",
    "# Filter for the first week of July (July 1–7, 2011)\n",
    "start_date = '2011-07-01'\n",
    "end_date = '2011-07-07'\n",
    "\n",
    "taxi_filtered_2011_week1 = taxi_filtered_2011[\n",
    "    (taxi_filtered_2011['tpep_pickup_datetime'] >= start_date) & \n",
    "    (taxi_filtered_2011['tpep_pickup_datetime'] <= end_date)\n",
    "]\n",
    "\n"
   ]
  },
  {
   "cell_type": "code",
   "execution_count": 47,
   "id": "7e870d2b-68f6-410a-919b-ad820f8d262f",
   "metadata": {},
   "outputs": [
    {
     "name": "stdout",
     "output_type": "stream",
     "text": [
      "Processed and saved:\n"
     ]
    }
   ],
   "source": [
    "    # Save filtered data as CSV\n",
    "output_filename = f'yellow_tripdata_2011-07_filtered.csv'\n",
    "taxi_filtered_2011.to_csv(output_filename, index=False)\n",
    "\n",
    "print(f\"Processed and saved:\" )"
   ]
  },
  {
   "cell_type": "code",
   "execution_count": 56,
   "id": "114219d9-30bf-4100-b84c-412464b02bfc",
   "metadata": {},
   "outputs": [
    {
     "name": "stdout",
     "output_type": "stream",
     "text": [
      "Processed and saved: 2021_new.parquet\n"
     ]
    }
   ],
   "source": [
    "# Looped version for makeing the datasets\n",
    "years = list(range(2021, 2022))\n",
    "\n",
    "# Loop through each year and process the Parquet file\n",
    "for year in years:\n",
    "    file_path = f'yellow_tripdata_{year}-07.parquet'\n",
    "    \n",
    "    # Read Parquet file\n",
    "    taxi_data = pq.read_table(file_path).to_pandas()\n",
    "\n",
    "    # Select necessary columns\n",
    "    taxi_data = taxi_data[['tpep_pickup_datetime', 'tpep_dropoff_datetime', 'PULocationID', 'DOLocationID']]\n",
    "\n",
    "    # Convert datetime column to proper format\n",
    "    taxi_data['tpep_pickup_datetime'] = pd.to_datetime(taxi_2011['tpep_pickup_datetime'])\n",
    "    taxi_data['tpep_dropoff_datetime'] = pd.to_datetime(taxi_2011['tpep_dropoff_datetime'])\n",
    "\n",
    "    # Filter for Manhattan zones\n",
    "    taxi_data_filtered = taxi_data[\n",
    "        (taxi_data['PULocationID'].isin(manhattan_zone_numbers)) & \n",
    "        (taxi_data['DOLocationID'].isin(manhattan_zone_numbers))\n",
    "    ]\n",
    "    # Filter for the first week of July (July 1–7, 2011)\n",
    "    start_date = '2011-07-01'\n",
    "    end_date = '2011-07-07'\n",
    "    \n",
    "    taxi_data_filtered_week1 = taxi_data_filtered[\n",
    "        (taxi_data_filtered['tpep_pickup_datetime'] >= start_date) & \n",
    "        (taxi_data_filtered['tpep_pickup_datetime'] <= end_date)\n",
    "    ]\n",
    " \n",
    "    # Save filtered data as CSV\n",
    "    output_filename = f'{year}_new.parquet'\n",
    "    taxi_data_filtered_week1.to_parquet(output_filename, index=False)\n",
    "\n",
    "    print(f\"Processed and saved: {output_filename}\")\n",
    "    # print(taxi_data_filtered)"
   ]
  },
  {
   "cell_type": "code",
   "execution_count": 51,
   "id": "c6bfcd27-f612-4e21-b9e9-ee297644f1b8",
   "metadata": {},
   "outputs": [
    {
     "data": {
      "text/html": [
       "<div>\n",
       "<style scoped>\n",
       "    .dataframe tbody tr th:only-of-type {\n",
       "        vertical-align: middle;\n",
       "    }\n",
       "\n",
       "    .dataframe tbody tr th {\n",
       "        vertical-align: top;\n",
       "    }\n",
       "\n",
       "    .dataframe thead th {\n",
       "        text-align: right;\n",
       "    }\n",
       "</style>\n",
       "<table border=\"1\" class=\"dataframe\">\n",
       "  <thead>\n",
       "    <tr style=\"text-align: right;\">\n",
       "      <th></th>\n",
       "      <th>tpep_pickup_datetime</th>\n",
       "      <th>tpep_dropoff_datetime</th>\n",
       "      <th>PULocationID</th>\n",
       "      <th>DOLocationID</th>\n",
       "    </tr>\n",
       "  </thead>\n",
       "  <tbody>\n",
       "    <tr>\n",
       "      <th>0</th>\n",
       "      <td>2011-07-01 00:25:00</td>\n",
       "      <td>2011-07-01 00:33:00</td>\n",
       "      <td>90</td>\n",
       "      <td>68</td>\n",
       "    </tr>\n",
       "    <tr>\n",
       "      <th>1</th>\n",
       "      <td>2011-07-01 00:18:00</td>\n",
       "      <td>2011-07-01 00:20:00</td>\n",
       "      <td>113</td>\n",
       "      <td>90</td>\n",
       "    </tr>\n",
       "    <tr>\n",
       "      <th>2</th>\n",
       "      <td>2011-07-01 00:22:00</td>\n",
       "      <td>2011-07-01 00:38:00</td>\n",
       "      <td>88</td>\n",
       "      <td>232</td>\n",
       "    </tr>\n",
       "    <tr>\n",
       "      <th>3</th>\n",
       "      <td>2011-07-01 00:51:00</td>\n",
       "      <td>2011-07-01 00:55:00</td>\n",
       "      <td>79</td>\n",
       "      <td>249</td>\n",
       "    </tr>\n",
       "    <tr>\n",
       "      <th>4</th>\n",
       "      <td>2011-07-01 00:24:58</td>\n",
       "      <td>2011-07-01 00:29:45</td>\n",
       "      <td>142</td>\n",
       "      <td>238</td>\n",
       "    </tr>\n",
       "    <tr>\n",
       "      <th>...</th>\n",
       "      <td>...</td>\n",
       "      <td>...</td>\n",
       "      <td>...</td>\n",
       "      <td>...</td>\n",
       "    </tr>\n",
       "    <tr>\n",
       "      <th>2409589</th>\n",
       "      <td>2011-07-07 00:00:00</td>\n",
       "      <td>2011-07-07 00:04:00</td>\n",
       "      <td>170</td>\n",
       "      <td>186</td>\n",
       "    </tr>\n",
       "    <tr>\n",
       "      <th>2410214</th>\n",
       "      <td>2011-07-07 00:00:00</td>\n",
       "      <td>2011-07-07 00:30:00</td>\n",
       "      <td>141</td>\n",
       "      <td>230</td>\n",
       "    </tr>\n",
       "    <tr>\n",
       "      <th>2410529</th>\n",
       "      <td>2011-07-07 00:00:00</td>\n",
       "      <td>2011-07-07 00:11:00</td>\n",
       "      <td>239</td>\n",
       "      <td>163</td>\n",
       "    </tr>\n",
       "    <tr>\n",
       "      <th>2410792</th>\n",
       "      <td>2011-07-07 00:00:00</td>\n",
       "      <td>2011-07-07 00:20:00</td>\n",
       "      <td>100</td>\n",
       "      <td>114</td>\n",
       "    </tr>\n",
       "    <tr>\n",
       "      <th>2410808</th>\n",
       "      <td>2011-07-07 00:00:00</td>\n",
       "      <td>2011-07-07 00:15:00</td>\n",
       "      <td>48</td>\n",
       "      <td>41</td>\n",
       "    </tr>\n",
       "  </tbody>\n",
       "</table>\n",
       "<p>2045156 rows × 4 columns</p>\n",
       "</div>"
      ],
      "text/plain": [
       "        tpep_pickup_datetime tpep_dropoff_datetime  PULocationID  DOLocationID\n",
       "0        2011-07-01 00:25:00   2011-07-01 00:33:00            90            68\n",
       "1        2011-07-01 00:18:00   2011-07-01 00:20:00           113            90\n",
       "2        2011-07-01 00:22:00   2011-07-01 00:38:00            88           232\n",
       "3        2011-07-01 00:51:00   2011-07-01 00:55:00            79           249\n",
       "4        2011-07-01 00:24:58   2011-07-01 00:29:45           142           238\n",
       "...                      ...                   ...           ...           ...\n",
       "2409589  2011-07-07 00:00:00   2011-07-07 00:04:00           170           186\n",
       "2410214  2011-07-07 00:00:00   2011-07-07 00:30:00           141           230\n",
       "2410529  2011-07-07 00:00:00   2011-07-07 00:11:00           239           163\n",
       "2410792  2011-07-07 00:00:00   2011-07-07 00:20:00           100           114\n",
       "2410808  2011-07-07 00:00:00   2011-07-07 00:15:00            48            41\n",
       "\n",
       "[2045156 rows x 4 columns]"
      ]
     },
     "execution_count": 51,
     "metadata": {},
     "output_type": "execute_result"
    }
   ],
   "source": [
    "taxi_data_filtered_week1"
   ]
  },
  {
   "cell_type": "code",
   "execution_count": null,
   "id": "f3b6d9f2-2c4e-4e5d-b2e8-3ae71bdc54f7",
   "metadata": {},
   "outputs": [],
   "source": []
  }
 ],
 "metadata": {
  "kernelspec": {
   "display_name": "Python 3 (ipykernel)",
   "language": "python",
   "name": "python3"
  },
  "language_info": {
   "codemirror_mode": {
    "name": "ipython",
    "version": 3
   },
   "file_extension": ".py",
   "mimetype": "text/x-python",
   "name": "python",
   "nbconvert_exporter": "python",
   "pygments_lexer": "ipython3",
   "version": "3.12.4"
  }
 },
 "nbformat": 4,
 "nbformat_minor": 5
}
