{
 "cells": [
  {
   "cell_type": "code",
   "execution_count": 4,
   "id": "06c7c7cd-d912-4da2-8b8e-770b94443337",
   "metadata": {},
   "outputs": [],
   "source": [
    "import pyarrow.parquet as pq\n",
    "import pandas as pd\n",
    "import matplotlib.pyplot as plt\n",
    "import glob\n"
   ]
  },
  {
   "cell_type": "code",
   "execution_count": 5,
   "id": "3db1a323-58a3-4cad-86b1-c3810b8a9b29",
   "metadata": {},
   "outputs": [
    {
     "name": "stdout",
     "output_type": "stream",
     "text": [
      "[4, 12, 13, 24, 41, 42, 43, 45, 48, 50, 68, 74, 75, 79, 87, 88, 90, 100, 103, 104, 105, 107, 113, 114, 116, 120, 125, 127, 128, 137, 140, 141, 142, 143, 144, 148, 151, 152, 153, 158, 161, 162, 163, 164, 166, 170, 186, 194, 202, 209, 211, 224, 229, 230, 231, 232, 233, 234, 236, 237, 238, 239, 243, 244, 246, 249, 261, 262, 263]\n"
     ]
    }
   ],
   "source": [
    "# To determine the right zones that belong to Manhattan\n",
    "zones = pd.read_csv('taxi_zone_lookup.csv')\n",
    "zones['Borough'] == 'Manhattan'\n",
    "manhattan_zones = zones[zones['Borough'] == 'Manhattan']\n",
    "manhattan_zone_numbers = manhattan_zones['LocationID'].unique().tolist()\n",
    "print(manhattan_zone_numbers)"
   ]
  },
  {
   "cell_type": "code",
   "execution_count": 8,
   "id": "114219d9-30bf-4100-b84c-412464b02bfc",
   "metadata": {},
   "outputs": [
    {
     "name": "stdout",
     "output_type": "stream",
     "text": [
      "Processed and saved: 2012_new.parquet\n",
      "Processed and saved: 2013_new.parquet\n",
      "Processed and saved: 2014_new.parquet\n",
      "Processed and saved: 2015_new.parquet\n",
      "Processed and saved: 2016_new.parquet\n",
      "Processed and saved: 2017_new.parquet\n",
      "Processed and saved: 2018_new.parquet\n",
      "Processed and saved: 2019_new.parquet\n",
      "Processed and saved: 2020_new.parquet\n",
      "Processed and saved: 2021_new.parquet\n",
      "Processed and saved: 2022_new.parquet\n",
      "Processed and saved: 2023_new.parquet\n",
      "Processed and saved: 2024_new.parquet\n"
     ]
    }
   ],
   "source": [
    "# Looped version for makeing the datasets\n",
    "years = list(range(2012, 2025))\n",
    "\n",
    "# Loop through each year and process the Parquet file\n",
    "for year in years:\n",
    "    file_path = f'yellow_tripdata_{year}-07.parquet'\n",
    "    \n",
    "    # Read Parquet file\n",
    "    taxi_data = pq.read_table(file_path).to_pandas()\n",
    "\n",
    "    # Select necessary columns\n",
    "    taxi_data = taxi_data[['tpep_pickup_datetime', 'tpep_dropoff_datetime', 'PULocationID', 'DOLocationID']]\n",
    "\n",
    "    # Convert datetime column to proper format\n",
    "    taxi_data['tpep_pickup_datetime'] = pd.to_datetime(taxi_data['tpep_pickup_datetime'])\n",
    "    taxi_data['tpep_dropoff_datetime'] = pd.to_datetime(taxi_data['tpep_dropoff_datetime'])\n",
    "\n",
    "    # Separate Date and Time Columns\n",
    "    taxi_data['pickup_date'] = taxi_data['tpep_pickup_datetime'].dt.date\n",
    "    taxi_data['pickup_time'] = taxi_data['tpep_pickup_datetime'].dt.time\n",
    "    taxi_data['dropoff_date'] = taxi_data['tpep_dropoff_datetime'].dt.date\n",
    "    taxi_data['dropoff_time'] = taxi_data['tpep_dropoff_datetime'].dt.time\n",
    "    \n",
    "    # Filter for Manhattan zones\n",
    "    taxi_data = taxi_data[\n",
    "        (taxi_data['PULocationID'].isin(manhattan_zone_numbers)) & \n",
    "        (taxi_data['DOLocationID'].isin(manhattan_zone_numbers))\n",
    "    ]\n",
    "    # Filter for the first week of July (July 1–7, 2011)\n",
    "    start_date = f'{year}-07-01'\n",
    "    end_date = f'{year}-07-07'\n",
    "    \n",
    "    taxi_data = taxi_data[\n",
    "        (taxi_data['pickup_date'] >= pd.to_datetime(start_date).date()) & \n",
    "        (taxi_data['dropoff_date'] <= pd.to_datetime(end_date).date())\n",
    "    ]\n",
    "     # Sort data by pickup date & pickup time\n",
    "    taxi_data = taxi_data.sort_values(by=['pickup_date', 'pickup_time'])\n",
    "\n",
    "    taxi_data['trip_length'] = taxi_data['tpep_dropoff_datetime'] - taxi_data['tpep_pickup_datetime']\n",
    "    taxi_data['length_trip_min'] = taxi_data['trip_length'].dt.total_seconds() / 60\n",
    "    taxi_data = taxi_data[taxi_data['length_trip_min'] > 0]\n",
    "    taxi_data = taxi_data.round({'length_trip_min':2})\n",
    "    taxi_data = taxi_data[['pickup_date','pickup_time', 'dropoff_date', 'dropoff_time', 'length_trip_min', 'PULocationID', 'DOLocationID']]\n",
    "   \n",
    "   \n",
    "    # Save filtered data as CSV\n",
    "    output_filename = f'{year}_new.parquet'\n",
    "    taxi_data.to_parquet(output_filename, index=False)\n",
    "\n",
    "    print(f\"Processed and saved: {output_filename}\")\n",
    "    # print(taxi_data_filtered)\n",
    "    \n",
    "# print(taxi_data[taxi_data['length_trip_min']<=0]['length_trip_min'])\n",
    "# taxi_data"
   ]
  },
  {
   "cell_type": "code",
   "execution_count": null,
   "id": "c6bfcd27-f612-4e21-b9e9-ee297644f1b8",
   "metadata": {},
   "outputs": [],
   "source": [
    " # taxi_data_filtered_week1['Pickup_FullDateTime'] = pd.to_datetime(taxi_data_filtered_week1['pickup_date'].astype(str) + ' ' + taxi_data_filtered_week1['pickup_time'].astype(str))\n",
    "    # taxi_data_filtered_week1['Dropoff_FullDateTime'] = pd.to_datetime(taxi_data_filtered_week1['dropoff_date'].astype(str) + ' ' + taxi_data_filtered_week1['dropoff_time'].astype(str))\n",
    "    \n",
    "    # # Compute trip length as a timedelta\n",
    "    # taxi_data_filtered_week1 ['length_trip'] = taxi_data_filtered_week1 ['Dropoff_FullDateTime'] - taxi_data_filtered_week1 ['Pickup_FullDateTime']\n",
    "    \n",
    "    # # Optional: Convert to minutes or seconds\n",
    "    # taxi_data_filtered_week1['length_trip_minutes'] = taxi_data_filtered_week1 ['length_trip'].dt.total_seconds() / 60\n",
    "    \n",
    "    # # Drop the full datetime columns if not needed\n",
    "    # # taxi_2010_filterd_week1 = taxi_2010_filterd_week1.drop(columns=['Pickup_FullDateTime', 'Dropoff_FullDateTime'])\n",
    "    \n",
    "    # # Display results\n",
    "    # # print(taxi_data_filtered_week1[['pickup_time', 'dropoff_time', 'length_trip', 'length_trip_minutes']])\n",
    "    # taxi_data_filtered_week1 = taxi_data_filtered_week1[taxi_data_filtered_week1['length_trip_minutes'] > 0]\n",
    "    # taxi_data = taxi_data[['pickup_date','pickup_time', 'dropoff_date', 'dropoff_time', 'length_trip_minutes', 'PULocationID', 'DOLocationID']]\n",
    "    \n",
    "    # # test all all fault test are out\n",
    "    # print(taxi_data_filtered_week1[taxi_data_filtered_week1['length_trip_minutes']<=0]['length_trip_minutes'])"
   ]
  },
  {
   "cell_type": "code",
   "execution_count": null,
   "id": "f3b6d9f2-2c4e-4e5d-b2e8-3ae71bdc54f7",
   "metadata": {},
   "outputs": [],
   "source": [
    "# taxi_2011 = pq.read_table('yellow_tripdata_2011-07.parquet')\n",
    "# taxi_2011 = taxi_2011.to_pandas()\n",
    "\n",
    "# # Select necessary columns\n",
    "# taxi_2011 = taxi_2011[['tpep_pickup_datetime', 'tpep_dropoff_datetime', 'PULocationID', 'DOLocationID']]\n",
    "\n",
    "# # Convert datetime column to proper format\n",
    "# taxi_2011['tpep_pickup_datetime'] = pd.to_datetime(taxi_2011['tpep_pickup_datetime'])\n",
    "# taxi_2011['tpep_dropoff_datetime'] = pd.to_datetime(taxi_2011['tpep_dropoff_datetime'])\n",
    "\n",
    "# # Filter for Manhattan zones\n",
    "# taxi_filtered_2011 = taxi_2011[\n",
    "#     (taxi_2011['PULocationID'].isin(manhattan_zone_numbers)) & \n",
    "#     (taxi_2011['DOLocationID'].isin(manhattan_zone_numbers))\n",
    "# ]\n",
    "\n",
    "# # Filter for the first week of July (July 1–7, 2011)\n",
    "# start_date = '2011-07-01'\n",
    "# end_date = '2011-07-07'\n",
    "\n",
    "# taxi_filtered_2011_week1 = taxi_filtered_2011[\n",
    "#     (taxi_filtered_2011['tpep_pickup_datetime'] >= start_date) & \n",
    "#     (taxi_filtered_2011['tpep_pickup_datetime'] <= end_date)\n",
    "# ]"
   ]
  },
  {
   "cell_type": "code",
   "execution_count": null,
   "id": "2b7a872f-0706-4160-8cf6-031f9910a094",
   "metadata": {},
   "outputs": [],
   "source": [
    "#     # Save filtered data as CSV\n",
    "# output_filename = f'yellow_tripdata_2011-07_filtered.csv'\n",
    "# taxi_filtered_2011.to_csv(output_filename, index=False)\n",
    "\n",
    "# print(f\"Processed and saved:\" )"
   ]
  }
 ],
 "metadata": {
  "kernelspec": {
   "display_name": "Python 3 (ipykernel)",
   "language": "python",
   "name": "python3"
  },
  "language_info": {
   "codemirror_mode": {
    "name": "ipython",
    "version": 3
   },
   "file_extension": ".py",
   "mimetype": "text/x-python",
   "name": "python",
   "nbconvert_exporter": "python",
   "pygments_lexer": "ipython3",
   "version": "3.12.4"
  }
 },
 "nbformat": 4,
 "nbformat_minor": 5
}
